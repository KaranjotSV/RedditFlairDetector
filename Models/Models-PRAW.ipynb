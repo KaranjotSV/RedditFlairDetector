{
 "cells": [
  {
   "cell_type": "code",
   "execution_count": 1,
   "metadata": {},
   "outputs": [
    {
     "name": "stderr",
     "output_type": "stream",
     "text": [
      "Using TensorFlow backend.\n"
     ]
    },
    {
     "data": {
      "text/html": [
       "        <script type=\"text/javascript\">\n",
       "        window.PlotlyConfig = {MathJaxConfig: 'local'};\n",
       "        if (window.MathJax) {MathJax.Hub.Config({SVG: {font: \"STIX-Web\"}});}\n",
       "        if (typeof require !== 'undefined') {\n",
       "        require.undef(\"plotly\");\n",
       "        requirejs.config({\n",
       "            paths: {\n",
       "                'plotly': ['https://cdn.plot.ly/plotly-latest.min']\n",
       "            }\n",
       "        });\n",
       "        require(['plotly'], function(Plotly) {\n",
       "            window._Plotly = Plotly;\n",
       "        });\n",
       "        }\n",
       "        </script>\n",
       "        "
      ]
     },
     "metadata": {},
     "output_type": "display_data"
    },
    {
     "data": {
      "text/html": [
       "        <script type=\"text/javascript\">\n",
       "        window.PlotlyConfig = {MathJaxConfig: 'local'};\n",
       "        if (window.MathJax) {MathJax.Hub.Config({SVG: {font: \"STIX-Web\"}});}\n",
       "        if (typeof require !== 'undefined') {\n",
       "        require.undef(\"plotly\");\n",
       "        requirejs.config({\n",
       "            paths: {\n",
       "                'plotly': ['https://cdn.plot.ly/plotly-latest.min']\n",
       "            }\n",
       "        });\n",
       "        require(['plotly'], function(Plotly) {\n",
       "            window._Plotly = Plotly;\n",
       "        });\n",
       "        }\n",
       "        </script>\n",
       "        "
      ]
     },
     "metadata": {},
     "output_type": "display_data"
    }
   ],
   "source": [
    "import numpy as np \n",
    "import pandas as pd\n",
    "import csv\n",
    "import matplotlib.pyplot as plt\n",
    "\n",
    "from sklearn.feature_extraction.text import CountVectorizer, TfidfVectorizer, TfidfTransformer\n",
    "\n",
    "from imblearn.pipeline import Pipeline\n",
    "from sklearn.model_selection import train_test_split, GridSearchCV\n",
    "from imblearn.over_sampling import SMOTE\n",
    "from sklearn.metrics import *\n",
    "from helper import *\n",
    "\n",
    "from sklearn.linear_model import LogisticRegression\n",
    "from sklearn.naive_bayes import MultinomialNB\n",
    "from sklearn.ensemble import RandomForestClassifier\n",
    "import pickle\n",
    "\n",
    "import cufflinks\n",
    "\n",
    "cufflinks.go_offline()\n",
    "cufflinks.set_config_file(world_readable=True, theme='pearl')\n",
    "\n",
    "import warnings\n",
    "warnings.filterwarnings(\"ignore\")"
   ]
  },
  {
   "cell_type": "code",
   "execution_count": 2,
   "metadata": {
    "scrolled": true
   },
   "outputs": [
    {
     "data": {
      "text/html": [
       "<div>\n",
       "<style scoped>\n",
       "    .dataframe tbody tr th:only-of-type {\n",
       "        vertical-align: middle;\n",
       "    }\n",
       "\n",
       "    .dataframe tbody tr th {\n",
       "        vertical-align: top;\n",
       "    }\n",
       "\n",
       "    .dataframe thead th {\n",
       "        text-align: right;\n",
       "    }\n",
       "</style>\n",
       "<table border=\"1\" class=\"dataframe\">\n",
       "  <thead>\n",
       "    <tr style=\"text-align: right;\">\n",
       "      <th></th>\n",
       "      <th>Post ID</th>\n",
       "      <th>Title</th>\n",
       "      <th>URL</th>\n",
       "      <th>Body</th>\n",
       "      <th>Score</th>\n",
       "      <th>Comments</th>\n",
       "      <th>Comments Count</th>\n",
       "      <th>Flair</th>\n",
       "    </tr>\n",
       "  </thead>\n",
       "  <tbody>\n",
       "    <tr>\n",
       "      <th>0</th>\n",
       "      <td>g014wc</td>\n",
       "      <td>lost job sick mother dad earn</td>\n",
       "      <td>www.reddit.com</td>\n",
       "      <td>hi really tough time everyone . recently lost ...</td>\n",
       "      <td>0.058620</td>\n",
       "      <td>. listen . beginner . hard fact . one trust jo...</td>\n",
       "      <td>0.031235</td>\n",
       "      <td>AskIndia</td>\n",
       "    </tr>\n",
       "    <tr>\n",
       "      <th>1</th>\n",
       "      <td>fxofyu</td>\n",
       "      <td>government come begging bowl every crisis</td>\n",
       "      <td>www.reddit.com</td>\n",
       "      <td>terrorist due lack rain pandemic . every incid...</td>\n",
       "      <td>0.036134</td>\n",
       "      <td>understand use money contingency fund separate...</td>\n",
       "      <td>0.048641</td>\n",
       "      <td>AskIndia</td>\n",
       "    </tr>\n",
       "    <tr>\n",
       "      <th>2</th>\n",
       "      <td>g0zlly</td>\n",
       "      <td>mother condition going worse due hepatitis b e...</td>\n",
       "      <td>www.reddit.com</td>\n",
       "      <td>hi really appreciate warm response previous po...</td>\n",
       "      <td>0.042678</td>\n",
       "      <td>anyone influential twitter please help guy sta...</td>\n",
       "      <td>0.022413</td>\n",
       "      <td>AskIndia</td>\n",
       "    </tr>\n",
       "    <tr>\n",
       "      <th>3</th>\n",
       "      <td>fvy95j</td>\n",
       "      <td>men decided get married plan old age</td>\n",
       "      <td>www.reddit.com</td>\n",
       "      <td>corona virus given time think life bit . male ...</td>\n",
       "      <td>0.014879</td>\n",
       "      <td>plan . work enjoy way healthy . go see world ....</td>\n",
       "      <td>0.049118</td>\n",
       "      <td>AskIndia</td>\n",
       "    </tr>\n",
       "    <tr>\n",
       "      <th>4</th>\n",
       "      <td>g1lmhg</td>\n",
       "      <td>please advice reality face today .</td>\n",
       "      <td>www.reddit.com</td>\n",
       "      <td>sorry post going long . please bear . also thr...</td>\n",
       "      <td>0.024052</td>\n",
       "      <td>one thing say try clear taking loan basis job ...</td>\n",
       "      <td>0.019790</td>\n",
       "      <td>AskIndia</td>\n",
       "    </tr>\n",
       "  </tbody>\n",
       "</table>\n",
       "</div>"
      ],
      "text/plain": [
       "  Post ID                                              Title             URL  \\\n",
       "0  g014wc                      lost job sick mother dad earn  www.reddit.com   \n",
       "1  fxofyu          government come begging bowl every crisis  www.reddit.com   \n",
       "2  g0zlly  mother condition going worse due hepatitis b e...  www.reddit.com   \n",
       "3  fvy95j               men decided get married plan old age  www.reddit.com   \n",
       "4  g1lmhg                 please advice reality face today .  www.reddit.com   \n",
       "\n",
       "                                                Body     Score  \\\n",
       "0  hi really tough time everyone . recently lost ...  0.058620   \n",
       "1  terrorist due lack rain pandemic . every incid...  0.036134   \n",
       "2  hi really appreciate warm response previous po...  0.042678   \n",
       "3  corona virus given time think life bit . male ...  0.014879   \n",
       "4  sorry post going long . please bear . also thr...  0.024052   \n",
       "\n",
       "                                            Comments  Comments Count     Flair  \n",
       "0  . listen . beginner . hard fact . one trust jo...        0.031235  AskIndia  \n",
       "1  understand use money contingency fund separate...        0.048641  AskIndia  \n",
       "2  anyone influential twitter please help guy sta...        0.022413  AskIndia  \n",
       "3  plan . work enjoy way healthy . go see world ....        0.049118  AskIndia  \n",
       "4  one thing say try clear taking loan basis job ...        0.019790  AskIndia  "
      ]
     },
     "execution_count": 2,
     "metadata": {},
     "output_type": "execute_result"
    }
   ],
   "source": [
    "data = pd.read_csv(\"Data/PRAW-Preprocessed.csv\")\n",
    "data.head(5)"
   ]
  },
  {
   "cell_type": "code",
   "execution_count": 3,
   "metadata": {},
   "outputs": [],
   "source": [
    "count = data.shape[0]"
   ]
  },
  {
   "cell_type": "code",
   "execution_count": 4,
   "metadata": {
    "scrolled": false
   },
   "outputs": [
    {
     "data": {
      "text/plain": [
       "Post ID              0\n",
       "Title               40\n",
       "URL                  0\n",
       "Body              1737\n",
       "Score                0\n",
       "Comments           249\n",
       "Comments Count       0\n",
       "Flair                0\n",
       "dtype: int64"
      ]
     },
     "execution_count": 4,
     "metadata": {},
     "output_type": "execute_result"
    }
   ],
   "source": [
    "data.isna().sum()"
   ]
  },
  {
   "cell_type": "code",
   "execution_count": 5,
   "metadata": {},
   "outputs": [],
   "source": [
    "data[\"Title\"].fillna(\" \", inplace = True)\n",
    "data[\"Body\"].fillna(\" \", inplace = True) \n",
    "data[\"Comments\"].fillna(\" \", inplace = True)"
   ]
  },
  {
   "cell_type": "code",
   "execution_count": 6,
   "metadata": {},
   "outputs": [],
   "source": [
    "flairs = [\"AskIndia\", \"Non-Political\", \"Scheduled\", \"Photography\", \"Science/Technology\", \"Politics\", \n",
    "          \"Business/Finance\", \"Policy/Economy\", \"Sports\", \"Food\", \"Coronavirus\"]"
   ]
  },
  {
   "cell_type": "markdown",
   "metadata": {},
   "source": [
    "Helper functions"
   ]
  },
  {
   "cell_type": "code",
   "execution_count": 7,
   "metadata": {},
   "outputs": [],
   "source": [
    "def singleFeature(feature):\n",
    "\n",
    "    X = data[feature].values\n",
    "    Y = data.Flair\n",
    "    X_train, X_test, Y_train, Y_test = train_test_split(X, Y, random_state = 77, test_size = 0.2)\n",
    "\n",
    "    return X_train, X_test, Y_train, Y_test\n",
    "\n",
    "##\n",
    "\n",
    "def dualFeature(feature1, feature2):\n",
    "\n",
    "    X1 = data[feature1].values\n",
    "    X2 = data[feature2].values\n",
    "    Y = data.Flair\n",
    "\n",
    "    X = []\n",
    "\n",
    "    for ind in range(count):\n",
    "\n",
    "        X.append(X1[ind] + ' ' + X2[ind])\n",
    "\n",
    "    X_train, X_test, Y_train, Y_test = train_test_split(X, Y, random_state = 77, test_size = 0.2)\n",
    "\n",
    "    return X_train, X_test, Y_train, Y_test\n",
    "\n",
    "##\n",
    "\n",
    "def triFeature(feature1, feature2, feature3):\n",
    "\n",
    "    X1 = data[feature1].values\n",
    "    X2 = data[feature2].values\n",
    "    X3 = data[feature3].values\n",
    "    Y = data.Flair\n",
    "\n",
    "    X = []\n",
    "\n",
    "    for ind in range(count):\n",
    "\n",
    "        X.append(X1[ind] + ' ' + X2[ind] + ' ' + X3[ind])\n",
    "\n",
    "    X_train, X_test, Y_train, Y_test = train_test_split(X, Y, random_state = 77, test_size = 0.2)\n",
    "\n",
    "    return X_train, X_test, Y_train, Y_test\n",
    "\n",
    "##\n",
    "\n",
    "def split(feature):\n",
    "\n",
    "    X = combFeature[feature].values\n",
    "    Y = combFeature.Flair\n",
    "\n",
    "    X_train, X_test, Y_train, Y_test = train_test_split(X, Y, random_state = 77, test_size = 0.2)\n",
    "\n",
    "    return X_train, X_test, Y_train, Y_test\n"
   ]
  },
  {
   "cell_type": "markdown",
   "metadata": {},
   "source": [
    "### Title"
   ]
  },
  {
   "cell_type": "code",
   "execution_count": 8,
   "metadata": {},
   "outputs": [],
   "source": [
    "X_train, X_test, Y_train, Y_test = singleFeature(\"Title\")"
   ]
  },
  {
   "cell_type": "markdown",
   "metadata": {},
   "source": [
    "Naive Bayes"
   ]
  },
  {
   "cell_type": "code",
   "execution_count": 9,
   "metadata": {
    "scrolled": true
   },
   "outputs": [
    {
     "name": "stdout",
     "output_type": "stream",
     "text": [
      "Train accuracy 0.9091337099811676\n",
      "Test accuracy 0.47368421052631576\n",
      "                    precision    recall  f1-score   support\n",
      "\n",
      "          AskIndia       0.26      0.37      0.30        51\n",
      "     Non-Political       0.40      0.36      0.38        47\n",
      "         Scheduled       0.45      0.59      0.51        51\n",
      "       Photography       0.56      0.51      0.53        55\n",
      "Science/Technology       0.26      0.17      0.21        52\n",
      "          Politics       0.80      0.68      0.74        57\n",
      "  Business/Finance       0.34      0.50      0.40        38\n",
      "    Policy/Economy       0.38      0.40      0.39        45\n",
      "            Sports       0.87      0.97      0.92        35\n",
      "              Food       0.34      0.19      0.24        58\n",
      "       Coronavirus       0.68      0.65      0.67        43\n",
      "\n",
      "          accuracy                           0.47       532\n",
      "         macro avg       0.49      0.49      0.48       532\n",
      "      weighted avg       0.48      0.47      0.47       532\n",
      "\n"
     ]
    }
   ],
   "source": [
    "MNB = Pipeline([('vect', CountVectorizer(ngram_range = (1, 1))),\n",
    "               ('tfidf', TfidfTransformer()),\n",
    "               ('MNB', MultinomialNB(alpha = 1, fit_prior = False)),\n",
    "              ])\n",
    "MNB.fit(X_train, Y_train)\n",
    "\n",
    "from sklearn.metrics import classification_report\n",
    "Y_pred = MNB.predict(X_test)\n",
    "\n",
    "print('Train accuracy '+ str(MNB.score(X_train, Y_train)))\n",
    "print('Test accuracy %s' % accuracy_score(Y_pred, Y_test))\n",
    "print(classification_report(Y_test, Y_pred, target_names = flairs))"
   ]
  },
  {
   "cell_type": "markdown",
   "metadata": {},
   "source": [
    "Logistic Regression"
   ]
  },
  {
   "cell_type": "code",
   "execution_count": 10,
   "metadata": {
    "scrolled": true
   },
   "outputs": [
    {
     "name": "stdout",
     "output_type": "stream",
     "text": [
      "Train accuracy 0.8860640301318268\n",
      "Test accuracy 0.462406015037594\n",
      "                    precision    recall  f1-score   support\n",
      "\n",
      "          AskIndia       0.33      0.31      0.32        51\n",
      "     Non-Political       0.37      0.30      0.33        47\n",
      "         Scheduled       0.48      0.59      0.53        51\n",
      "       Photography       0.54      0.47      0.50        55\n",
      "Science/Technology       0.24      0.21      0.23        52\n",
      "          Politics       0.88      0.65      0.75        57\n",
      "  Business/Finance       0.35      0.47      0.40        38\n",
      "    Policy/Economy       0.26      0.51      0.34        45\n",
      "            Sports       1.00      0.94      0.97        35\n",
      "              Food       0.35      0.24      0.29        58\n",
      "       Coronavirus       0.73      0.56      0.63        43\n",
      "\n",
      "          accuracy                           0.46       532\n",
      "         macro avg       0.50      0.48      0.48       532\n",
      "      weighted avg       0.49      0.46      0.47       532\n",
      "\n"
     ]
    }
   ],
   "source": [
    "LR = Pipeline([('vect', CountVectorizer(ngram_range = (1, 1))),\n",
    "                ('tfidf', TfidfTransformer()),\n",
    "                ('LR', LogisticRegression(solver = \"liblinear\", penalty = \"l2\")),\n",
    "               ])\n",
    "LR.fit(X_train, Y_train)\n",
    "\n",
    "Y_pred = LR.predict(X_test)\n",
    "\n",
    "print('Train accuracy '+ str(LR.score(X_train, Y_train)))\n",
    "print('Test accuracy %s' % accuracy_score(Y_pred, Y_test))\n",
    "print(classification_report(Y_test, Y_pred, target_names = flairs))"
   ]
  },
  {
   "cell_type": "markdown",
   "metadata": {},
   "source": [
    "Random Forest"
   ]
  },
  {
   "cell_type": "code",
   "execution_count": 11,
   "metadata": {
    "scrolled": false
   },
   "outputs": [
    {
     "name": "stdout",
     "output_type": "stream",
     "text": [
      "Train accuracy 0.89030131826742\n",
      "Test accuracy 0.43609022556390975\n",
      "                    precision    recall  f1-score   support\n",
      "\n",
      "          AskIndia       0.41      0.41      0.41        51\n",
      "     Non-Political       0.34      0.23      0.28        47\n",
      "         Scheduled       0.47      0.59      0.52        51\n",
      "       Photography       0.47      0.40      0.43        55\n",
      "Science/Technology       0.18      0.17      0.18        52\n",
      "          Politics       0.81      0.60      0.69        57\n",
      "  Business/Finance       0.31      0.34      0.33        38\n",
      "    Policy/Economy       0.21      0.51      0.30        45\n",
      "            Sports       0.97      0.97      0.97        35\n",
      "              Food       0.43      0.21      0.28        58\n",
      "       Coronavirus       0.68      0.53      0.60        43\n",
      "\n",
      "          accuracy                           0.44       532\n",
      "         macro avg       0.48      0.45      0.45       532\n",
      "      weighted avg       0.47      0.44      0.44       532\n",
      "\n"
     ]
    }
   ],
   "source": [
    "RF = Pipeline([\n",
    "    ('vect', CountVectorizer(ngram_range = (1, 1))),\n",
    "    ('tfidf', TfidfTransformer()),\n",
    "    ('RF', RandomForestClassifier(max_depth = 3000, min_samples_split = 200))\n",
    "])\n",
    "\n",
    "RF.fit(X_train, Y_train)\n",
    "\n",
    "Y_pred = RF.predict(X_test)\n",
    "\n",
    "print('Train accuracy '+ str(RF.score(X_train, Y_train)))\n",
    "print('Test accuracy %s' % accuracy_score(Y_pred, Y_test))\n",
    "print(classification_report(Y_test, Y_pred, target_names = flairs))"
   ]
  },
  {
   "cell_type": "markdown",
   "metadata": {},
   "source": [
    "### Comments"
   ]
  },
  {
   "cell_type": "code",
   "execution_count": 12,
   "metadata": {},
   "outputs": [],
   "source": [
    "X_train, X_test, Y_train, Y_test = singleFeature(\"Comments\")"
   ]
  },
  {
   "cell_type": "markdown",
   "metadata": {},
   "source": [
    "Naive Bayes"
   ]
  },
  {
   "cell_type": "code",
   "execution_count": 13,
   "metadata": {
    "scrolled": false
   },
   "outputs": [
    {
     "name": "stdout",
     "output_type": "stream",
     "text": [
      "Train accuracy 0.7269303201506592\n",
      "Test accuracy 0.37406015037593987\n",
      "                    precision    recall  f1-score   support\n",
      "\n",
      "          AskIndia       0.19      0.55      0.28        51\n",
      "     Non-Political       0.53      0.17      0.26        47\n",
      "         Scheduled       1.00      0.06      0.11        51\n",
      "       Photography       0.96      0.42      0.58        55\n",
      "Science/Technology       0.42      0.21      0.28        52\n",
      "          Politics       0.95      0.61      0.74        57\n",
      "  Business/Finance       0.35      0.32      0.33        38\n",
      "    Policy/Economy       0.28      0.84      0.42        45\n",
      "            Sports       0.35      0.97      0.52        35\n",
      "              Food       0.33      0.02      0.03        58\n",
      "       Coronavirus       1.00      0.14      0.24        43\n",
      "\n",
      "          accuracy                           0.37       532\n",
      "         macro avg       0.58      0.39      0.35       532\n",
      "      weighted avg       0.59      0.37      0.34       532\n",
      "\n"
     ]
    }
   ],
   "source": [
    "MNB = Pipeline([('vect', CountVectorizer(ngram_range = (1, 1))),\n",
    "               ('tfidf', TfidfTransformer()),\n",
    "               ('MNB', MultinomialNB(alpha = 1, fit_prior = False)),\n",
    "              ])\n",
    "MNB.fit(X_train, Y_train)\n",
    "\n",
    "from sklearn.metrics import classification_report\n",
    "Y_pred = MNB.predict(X_test)\n",
    "\n",
    "print('Train accuracy '+ str(MNB.score(X_train, Y_train)))\n",
    "print('Test accuracy %s' % accuracy_score(Y_pred, Y_test))\n",
    "print(classification_report(Y_test, Y_pred, target_names = flairs))"
   ]
  },
  {
   "cell_type": "markdown",
   "metadata": {},
   "source": [
    "Logistic Regression"
   ]
  },
  {
   "cell_type": "code",
   "execution_count": 14,
   "metadata": {
    "scrolled": true
   },
   "outputs": [
    {
     "name": "stdout",
     "output_type": "stream",
     "text": [
      "Train accuracy 0.85969868173258\n",
      "Test accuracy 0.5319548872180451\n",
      "                    precision    recall  f1-score   support\n",
      "\n",
      "          AskIndia       0.53      0.49      0.51        51\n",
      "     Non-Political       0.48      0.28      0.35        47\n",
      "         Scheduled       0.31      0.63      0.41        51\n",
      "       Photography       0.87      0.60      0.71        55\n",
      "Science/Technology       0.55      0.31      0.40        52\n",
      "          Politics       0.77      0.81      0.79        57\n",
      "  Business/Finance       0.29      0.37      0.33        38\n",
      "    Policy/Economy       0.48      0.64      0.55        45\n",
      "            Sports       0.68      0.91      0.78        35\n",
      "              Food       0.56      0.38      0.45        58\n",
      "       Coronavirus       0.64      0.49      0.55        43\n",
      "\n",
      "          accuracy                           0.53       532\n",
      "         macro avg       0.56      0.54      0.53       532\n",
      "      weighted avg       0.57      0.53      0.53       532\n",
      "\n"
     ]
    }
   ],
   "source": [
    "LR = Pipeline([('vect', CountVectorizer(ngram_range = (1, 1))),\n",
    "                ('tfidf', TfidfTransformer()),\n",
    "                ('LR', LogisticRegression(solver = \"liblinear\", penalty = \"l2\")),\n",
    "               ])\n",
    "LR.fit(X_train, Y_train)\n",
    "\n",
    "Y_pred = LR.predict(X_test)\n",
    "\n",
    "print('Train accuracy '+ str(LR.score(X_train, Y_train)))\n",
    "print('Test accuracy %s' % accuracy_score(Y_pred, Y_test))\n",
    "print(classification_report(Y_test, Y_pred, target_names = flairs))"
   ]
  },
  {
   "cell_type": "markdown",
   "metadata": {},
   "source": [
    "Random Forest"
   ]
  },
  {
   "cell_type": "code",
   "execution_count": 15,
   "metadata": {
    "scrolled": true
   },
   "outputs": [
    {
     "name": "stdout",
     "output_type": "stream",
     "text": [
      "Train accuracy 0.8192090395480226\n",
      "Test accuracy 0.4417293233082707\n",
      "                    precision    recall  f1-score   support\n",
      "\n",
      "          AskIndia       0.50      0.57      0.53        51\n",
      "     Non-Political       0.45      0.30      0.36        47\n",
      "         Scheduled       0.30      0.57      0.39        51\n",
      "       Photography       0.66      0.38      0.48        55\n",
      "Science/Technology       0.32      0.15      0.21        52\n",
      "          Politics       0.71      0.74      0.72        57\n",
      "  Business/Finance       0.37      0.42      0.40        38\n",
      "    Policy/Economy       0.32      0.58      0.41        45\n",
      "            Sports       0.50      0.86      0.63        35\n",
      "              Food       0.35      0.12      0.18        58\n",
      "       Coronavirus       0.50      0.30      0.38        43\n",
      "\n",
      "          accuracy                           0.44       532\n",
      "         macro avg       0.45      0.45      0.43       532\n",
      "      weighted avg       0.46      0.44      0.42       532\n",
      "\n"
     ]
    }
   ],
   "source": [
    "RF = Pipeline([\n",
    "    ('vect', CountVectorizer(ngram_range = (1, 1))),\n",
    "    ('tfidf', TfidfTransformer()),\n",
    "    ('RF', RandomForestClassifier(max_depth = 3000, min_samples_split = 200))\n",
    "])\n",
    "\n",
    "RF.fit(X_train, Y_train)\n",
    "\n",
    "Y_pred = RF.predict(X_test)\n",
    "\n",
    "print('Train accuracy '+ str(RF.score(X_train, Y_train)))\n",
    "print('Test accuracy %s' % accuracy_score(Y_pred, Y_test))\n",
    "print(classification_report(Y_test, Y_pred, target_names = flairs))"
   ]
  },
  {
   "cell_type": "markdown",
   "metadata": {},
   "source": [
    "### Title - Comments"
   ]
  },
  {
   "cell_type": "code",
   "execution_count": 16,
   "metadata": {},
   "outputs": [],
   "source": [
    "X_train, X_test, Y_train, Y_test = dualFeature(\"Title\", \"Comments\")"
   ]
  },
  {
   "cell_type": "markdown",
   "metadata": {},
   "source": [
    "Naive Bayes"
   ]
  },
  {
   "cell_type": "code",
   "execution_count": 17,
   "metadata": {},
   "outputs": [
    {
     "name": "stdout",
     "output_type": "stream",
     "text": [
      "Train accuracy 0.852165725047081\n",
      "Test accuracy 0.4868421052631579\n",
      "                    precision    recall  f1-score   support\n",
      "\n",
      "          AskIndia       0.31      0.55      0.40        51\n",
      "     Non-Political       0.55      0.23      0.33        47\n",
      "         Scheduled       0.81      0.41      0.55        51\n",
      "       Photography       0.96      0.47      0.63        55\n",
      "Science/Technology       0.45      0.27      0.34        52\n",
      "          Politics       1.00      0.70      0.82        57\n",
      "  Business/Finance       0.33      0.39      0.36        38\n",
      "    Policy/Economy       0.30      0.87      0.45        45\n",
      "            Sports       0.40      0.97      0.56        35\n",
      "              Food       0.58      0.12      0.20        58\n",
      "       Coronavirus       0.96      0.56      0.71        43\n",
      "\n",
      "          accuracy                           0.49       532\n",
      "         macro avg       0.61      0.50      0.49       532\n",
      "      weighted avg       0.62      0.49      0.49       532\n",
      "\n"
     ]
    }
   ],
   "source": [
    "MNB = Pipeline([('vect', CountVectorizer(ngram_range = (1, 1))),\n",
    "               ('tfidf', TfidfTransformer()),\n",
    "               ('MNB', MultinomialNB(alpha = 1, fit_prior = False)),\n",
    "              ])\n",
    "MNB.fit(X_train, Y_train)\n",
    "\n",
    "from sklearn.metrics import classification_report\n",
    "Y_pred = MNB.predict(X_test)\n",
    "\n",
    "print('Train accuracy '+ str(MNB.score(X_train, Y_train)))\n",
    "print('Test accuracy %s' % accuracy_score(Y_pred, Y_test))\n",
    "print(classification_report(Y_test, Y_pred, target_names = flairs))"
   ]
  },
  {
   "cell_type": "markdown",
   "metadata": {},
   "source": [
    "Logistic Regression"
   ]
  },
  {
   "cell_type": "code",
   "execution_count": 18,
   "metadata": {},
   "outputs": [
    {
     "name": "stdout",
     "output_type": "stream",
     "text": [
      "Train accuracy 0.9166666666666666\n",
      "Test accuracy 0.6353383458646616\n",
      "                    precision    recall  f1-score   support\n",
      "\n",
      "          AskIndia       0.57      0.53      0.55        51\n",
      "     Non-Political       0.57      0.45      0.50        47\n",
      "         Scheduled       0.59      0.73      0.65        51\n",
      "       Photography       0.87      0.71      0.78        55\n",
      "Science/Technology       0.60      0.35      0.44        52\n",
      "          Politics       0.89      0.89      0.89        57\n",
      "  Business/Finance       0.32      0.45      0.37        38\n",
      "    Policy/Economy       0.46      0.64      0.54        45\n",
      "            Sports       0.85      0.94      0.89        35\n",
      "              Food       0.57      0.52      0.54        58\n",
      "       Coronavirus       0.80      0.84      0.82        43\n",
      "\n",
      "          accuracy                           0.64       532\n",
      "         macro avg       0.64      0.64      0.63       532\n",
      "      weighted avg       0.65      0.64      0.63       532\n",
      "\n"
     ]
    }
   ],
   "source": [
    "LR = Pipeline([('vect', CountVectorizer(ngram_range = (1, 1))),\n",
    "                ('tfidf', TfidfTransformer()),\n",
    "                ('LR', LogisticRegression(solver = \"liblinear\", penalty = \"l2\")),\n",
    "               ])\n",
    "LR.fit(X_train, Y_train)\n",
    "\n",
    "Y_pred = LR.predict(X_test)\n",
    "\n",
    "print('Train accuracy '+ str(LR.score(X_train, Y_train)))\n",
    "print('Test accuracy %s' % accuracy_score(Y_pred, Y_test))\n",
    "print(classification_report(Y_test, Y_pred, target_names = flairs))"
   ]
  },
  {
   "cell_type": "markdown",
   "metadata": {},
   "source": [
    "Random Forest"
   ]
  },
  {
   "cell_type": "code",
   "execution_count": 19,
   "metadata": {
    "scrolled": true
   },
   "outputs": [
    {
     "name": "stdout",
     "output_type": "stream",
     "text": [
      "Train accuracy 0.832391713747646\n",
      "Test accuracy 0.5131578947368421\n",
      "                    precision    recall  f1-score   support\n",
      "\n",
      "          AskIndia       0.47      0.49      0.48        51\n",
      "     Non-Political       0.50      0.32      0.39        47\n",
      "         Scheduled       0.53      0.57      0.55        51\n",
      "       Photography       0.79      0.55      0.65        55\n",
      "Science/Technology       0.40      0.19      0.26        52\n",
      "          Politics       0.73      0.77      0.75        57\n",
      "  Business/Finance       0.35      0.45      0.40        38\n",
      "    Policy/Economy       0.32      0.53      0.40        45\n",
      "            Sports       0.56      0.94      0.70        35\n",
      "              Food       0.36      0.31      0.33        58\n",
      "       Coronavirus       0.72      0.65      0.68        43\n",
      "\n",
      "          accuracy                           0.51       532\n",
      "         macro avg       0.52      0.52      0.51       532\n",
      "      weighted avg       0.53      0.51      0.51       532\n",
      "\n"
     ]
    }
   ],
   "source": [
    "RF = Pipeline([\n",
    "    ('vect', CountVectorizer(ngram_range = (1, 1))),\n",
    "    ('tfidf', TfidfTransformer()),\n",
    "    ('RF', RandomForestClassifier(max_depth = 3000, min_samples_split = 200))\n",
    "])\n",
    "\n",
    "RF.fit(X_train, Y_train)\n",
    "\n",
    "Y_pred = RF.predict(X_test)\n",
    "\n",
    "print('Train accuracy '+ str(RF.score(X_train, Y_train)))\n",
    "print('Test accuracy %s' % accuracy_score(Y_pred, Y_test))\n",
    "print(classification_report(Y_test, Y_pred, target_names = flairs))"
   ]
  },
  {
   "cell_type": "markdown",
   "metadata": {},
   "source": [
    "### Title - Comments - Body"
   ]
  },
  {
   "cell_type": "code",
   "execution_count": 20,
   "metadata": {},
   "outputs": [],
   "source": [
    "X_train, X_test, Y_train, Y_test = triFeature(\"Title\", \"Body\", \"Comments\")"
   ]
  },
  {
   "cell_type": "markdown",
   "metadata": {},
   "source": [
    "Naive Bayes"
   ]
  },
  {
   "cell_type": "code",
   "execution_count": 21,
   "metadata": {},
   "outputs": [
    {
     "name": "stdout",
     "output_type": "stream",
     "text": [
      "Train accuracy 0.8441619585687382\n",
      "Test accuracy 0.5075187969924813\n",
      "                    precision    recall  f1-score   support\n",
      "\n",
      "          AskIndia       0.29      0.69      0.41        51\n",
      "     Non-Political       0.60      0.26      0.36        47\n",
      "         Scheduled       0.80      0.39      0.53        51\n",
      "       Photography       0.93      0.51      0.66        55\n",
      "Science/Technology       0.52      0.25      0.34        52\n",
      "          Politics       1.00      0.70      0.82        57\n",
      "  Business/Finance       0.37      0.47      0.41        38\n",
      "    Policy/Economy       0.33      0.84      0.47        45\n",
      "            Sports       0.48      0.97      0.64        35\n",
      "              Food       0.58      0.12      0.20        58\n",
      "       Coronavirus       0.96      0.58      0.72        43\n",
      "\n",
      "          accuracy                           0.51       532\n",
      "         macro avg       0.62      0.53      0.51       532\n",
      "      weighted avg       0.64      0.51      0.50       532\n",
      "\n"
     ]
    }
   ],
   "source": [
    "MNB = Pipeline([('vect', CountVectorizer(ngram_range = (1, 1))),\n",
    "               ('tfidf', TfidfTransformer()),\n",
    "               ('MNB', MultinomialNB(alpha = 1, fit_prior = False)),\n",
    "              ])\n",
    "MNB.fit(X_train, Y_train)\n",
    "\n",
    "from sklearn.metrics import classification_report\n",
    "Y_pred = MNB.predict(X_test)\n",
    "\n",
    "print('Train accuracy '+ str(MNB.score(X_train, Y_train)))\n",
    "print('Test accuracy %s' % accuracy_score(Y_pred, Y_test))\n",
    "print(classification_report(Y_test, Y_pred, target_names = flairs))"
   ]
  },
  {
   "cell_type": "markdown",
   "metadata": {},
   "source": [
    "Logistic Regression"
   ]
  },
  {
   "cell_type": "code",
   "execution_count": 22,
   "metadata": {},
   "outputs": [
    {
     "name": "stdout",
     "output_type": "stream",
     "text": [
      "Train accuracy 0.9119585687382298\n",
      "Test accuracy 0.6409774436090225\n",
      "                    precision    recall  f1-score   support\n",
      "\n",
      "          AskIndia       0.58      0.55      0.57        51\n",
      "     Non-Political       0.57      0.49      0.53        47\n",
      "         Scheduled       0.59      0.73      0.65        51\n",
      "       Photography       0.86      0.76      0.81        55\n",
      "Science/Technology       0.56      0.37      0.44        52\n",
      "          Politics       0.86      0.89      0.88        57\n",
      "  Business/Finance       0.31      0.42      0.36        38\n",
      "    Policy/Economy       0.43      0.58      0.50        45\n",
      "            Sports       0.97      0.94      0.96        35\n",
      "              Food       0.61      0.52      0.56        58\n",
      "       Coronavirus       0.80      0.84      0.82        43\n",
      "\n",
      "          accuracy                           0.64       532\n",
      "         macro avg       0.65      0.64      0.64       532\n",
      "      weighted avg       0.65      0.64      0.64       532\n",
      "\n"
     ]
    }
   ],
   "source": [
    "LR = Pipeline([('vect', CountVectorizer(ngram_range = (1, 1))),\n",
    "                ('tfidf', TfidfTransformer()),\n",
    "                ('LR', LogisticRegression(solver = \"liblinear\", penalty = \"l2\")),\n",
    "               ])\n",
    "LR.fit(X_train, Y_train)\n",
    "\n",
    "Y_pred = LR.predict(X_test)\n",
    "\n",
    "print('Train accuracy '+ str(LR.score(X_train, Y_train)))\n",
    "print('Test accuracy %s' % accuracy_score(Y_pred, Y_test))\n",
    "print(classification_report(Y_test, Y_pred, target_names = flairs))"
   ]
  },
  {
   "cell_type": "code",
   "execution_count": 23,
   "metadata": {},
   "outputs": [],
   "source": [
    "pickle.dump(LR, open('LR-PRAW.pkl', 'wb'))"
   ]
  },
  {
   "cell_type": "markdown",
   "metadata": {},
   "source": [
    "Random Forest"
   ]
  },
  {
   "cell_type": "code",
   "execution_count": 24,
   "metadata": {},
   "outputs": [
    {
     "name": "stdout",
     "output_type": "stream",
     "text": [
      "Train accuracy 0.847457627118644\n",
      "Test accuracy 0.5338345864661654\n",
      "                    precision    recall  f1-score   support\n",
      "\n",
      "          AskIndia       0.47      0.63      0.54        51\n",
      "     Non-Political       0.48      0.32      0.38        47\n",
      "         Scheduled       0.41      0.57      0.48        51\n",
      "       Photography       0.80      0.67      0.73        55\n",
      "Science/Technology       0.22      0.10      0.13        52\n",
      "          Politics       0.73      0.79      0.76        57\n",
      "  Business/Finance       0.39      0.53      0.45        38\n",
      "    Policy/Economy       0.41      0.53      0.46        45\n",
      "            Sports       0.71      0.91      0.80        35\n",
      "              Food       0.45      0.26      0.33        58\n",
      "       Coronavirus       0.68      0.70      0.69        43\n",
      "\n",
      "          accuracy                           0.53       532\n",
      "         macro avg       0.52      0.55      0.52       532\n",
      "      weighted avg       0.52      0.53      0.52       532\n",
      "\n"
     ]
    }
   ],
   "source": [
    "RF = Pipeline([\n",
    "    ('vect', CountVectorizer(ngram_range = (1, 1))),\n",
    "    ('tfidf', TfidfTransformer()),\n",
    "    ('RF', RandomForestClassifier(max_depth = 3000, min_samples_split = 200))\n",
    "])\n",
    "\n",
    "RF.fit(X_train, Y_train)\n",
    "\n",
    "Y_pred = RF.predict(X_test)\n",
    "\n",
    "print('Train accuracy '+ str(RF.score(X_train, Y_train)))\n",
    "print('Test accuracy %s' % accuracy_score(Y_pred, Y_test))\n",
    "print(classification_report(Y_test, Y_pred, target_names = flairs))"
   ]
  },
  {
   "cell_type": "markdown",
   "metadata": {},
   "source": [
    "Working on PRAW-CombinedFeature.csv"
   ]
  },
  {
   "cell_type": "code",
   "execution_count": 25,
   "metadata": {},
   "outputs": [],
   "source": [
    "combFeature = pd.read_csv(\"Data/PRAW-CombinedFeature.csv\")"
   ]
  },
  {
   "cell_type": "markdown",
   "metadata": {},
   "source": [
    "### Title - Body - Comments (Augmented)"
   ]
  },
  {
   "cell_type": "code",
   "execution_count": 26,
   "metadata": {},
   "outputs": [],
   "source": [
    "X_train, X_test, Y_train, Y_test = split(\"CombinedFeature\")"
   ]
  },
  {
   "cell_type": "markdown",
   "metadata": {},
   "source": [
    "Naive Bayes"
   ]
  },
  {
   "cell_type": "code",
   "execution_count": 27,
   "metadata": {},
   "outputs": [
    {
     "name": "stdout",
     "output_type": "stream",
     "text": [
      "Train accuracy 0.9990586020240056\n",
      "Test accuracy 0.8579492003762935\n",
      "                    precision    recall  f1-score   support\n",
      "\n",
      "          AskIndia       0.56      0.95      0.71        88\n",
      "     Non-Political       0.93      0.81      0.87        85\n",
      "         Scheduled       1.00      0.90      0.95       103\n",
      "       Photography       0.96      0.80      0.88        97\n",
      "Science/Technology       0.76      0.81      0.79        96\n",
      "          Politics       1.00      0.80      0.89        92\n",
      "  Business/Finance       0.88      0.93      0.90        96\n",
      "    Policy/Economy       0.83      0.87      0.85       109\n",
      "            Sports       0.82      0.87      0.84        99\n",
      "              Food       0.97      0.76      0.86        93\n",
      "       Coronavirus       0.98      0.90      0.94       105\n",
      "\n",
      "          accuracy                           0.86      1063\n",
      "         macro avg       0.88      0.86      0.86      1063\n",
      "      weighted avg       0.88      0.86      0.86      1063\n",
      "\n"
     ]
    }
   ],
   "source": [
    "MNB = Pipeline([('vect', CountVectorizer(ngram_range = (1, 2))),\n",
    "               ('tfidf', TfidfTransformer()),\n",
    "               ('MNB', MultinomialNB(alpha = 0, fit_prior = True)),\n",
    "              ])\n",
    "MNB.fit(X_train, Y_train)\n",
    "\n",
    "from sklearn.metrics import classification_report\n",
    "Y_pred = MNB.predict(X_test)\n",
    "\n",
    "print('Train accuracy '+ str(MNB.score(X_train, Y_train)))\n",
    "print('Test accuracy %s' % accuracy_score(Y_pred, Y_test))\n",
    "print(classification_report(Y_test, Y_pred, target_names = flairs))"
   ]
  },
  {
   "cell_type": "markdown",
   "metadata": {},
   "source": [
    "Logistic Regression"
   ]
  },
  {
   "cell_type": "code",
   "execution_count": 28,
   "metadata": {
    "scrolled": true
   },
   "outputs": [
    {
     "name": "stdout",
     "output_type": "stream",
     "text": [
      "Train accuracy 0.9814073899741116\n",
      "Test accuracy 0.812793979303857\n",
      "                    precision    recall  f1-score   support\n",
      "\n",
      "          AskIndia       0.60      0.70      0.65        88\n",
      "     Non-Political       0.73      0.74      0.74        85\n",
      "         Scheduled       0.82      0.79      0.80       103\n",
      "       Photography       0.86      0.91      0.88        97\n",
      "Science/Technology       0.79      0.62      0.70        96\n",
      "          Politics       0.88      0.97      0.92        92\n",
      "  Business/Finance       0.75      0.70      0.72        96\n",
      "    Policy/Economy       0.71      0.82      0.76       109\n",
      "            Sports       1.00      0.92      0.96        99\n",
      "              Food       0.82      0.78      0.80        93\n",
      "       Coronavirus       0.99      0.96      0.98       105\n",
      "\n",
      "          accuracy                           0.81      1063\n",
      "         macro avg       0.81      0.81      0.81      1063\n",
      "      weighted avg       0.82      0.81      0.81      1063\n",
      "\n"
     ]
    }
   ],
   "source": [
    "LR = Pipeline([('vect', CountVectorizer(ngram_range = (1, 2))),\n",
    "                ('tfidf', TfidfTransformer()),\n",
    "                ('LR', LogisticRegression(solver = \"liblinear\", penalty = \"l2\")),\n",
    "               ])\n",
    "LR.fit(X_train, Y_train)\n",
    "\n",
    "Y_pred = LR.predict(X_test)\n",
    "\n",
    "print('Train accuracy '+ str(LR.score(X_train, Y_train)))\n",
    "print('Test accuracy %s' % accuracy_score(Y_pred, Y_test))\n",
    "print(classification_report(Y_test, Y_pred, target_names = flairs))"
   ]
  },
  {
   "cell_type": "markdown",
   "metadata": {},
   "source": [
    "Random Forest"
   ]
  },
  {
   "cell_type": "code",
   "execution_count": 29,
   "metadata": {},
   "outputs": [
    {
     "name": "stdout",
     "output_type": "stream",
     "text": [
      "Train accuracy 0.957166392092257\n",
      "Test accuracy 0.7215428033866416\n",
      "                    precision    recall  f1-score   support\n",
      "\n",
      "          AskIndia       0.50      0.66      0.57        88\n",
      "     Non-Political       0.56      0.58      0.57        85\n",
      "         Scheduled       0.58      0.74      0.65       103\n",
      "       Photography       0.83      0.82      0.83        97\n",
      "Science/Technology       0.66      0.42      0.51        96\n",
      "          Politics       0.76      0.91      0.83        92\n",
      "  Business/Finance       0.70      0.52      0.60        96\n",
      "    Policy/Economy       0.74      0.80      0.77       109\n",
      "            Sports       0.90      0.93      0.92        99\n",
      "              Food       0.79      0.68      0.73        93\n",
      "       Coronavirus       0.98      0.84      0.90       105\n",
      "\n",
      "          accuracy                           0.72      1063\n",
      "         macro avg       0.73      0.72      0.72      1063\n",
      "      weighted avg       0.73      0.72      0.72      1063\n",
      "\n"
     ]
    }
   ],
   "source": [
    "RF = Pipeline([\n",
    "    ('vect', CountVectorizer(ngram_range = (1, 2))),\n",
    "    ('tfidf', TfidfTransformer()),\n",
    "    ('RF', RandomForestClassifier(max_depth = 4000, min_samples_split = 200))\n",
    "])\n",
    "\n",
    "RF.fit(X_train, Y_train)\n",
    "\n",
    "Y_pred = RF.predict(X_test)\n",
    "\n",
    "print('Train accuracy '+ str(RF.score(X_train, Y_train)))\n",
    "print('Test accuracy %s' % accuracy_score(Y_pred, Y_test))\n",
    "print(classification_report(Y_test, Y_pred, target_names = flairs))"
   ]
  }
 ],
 "metadata": {
  "kernelspec": {
   "display_name": "Python 3",
   "language": "python",
   "name": "python3"
  },
  "language_info": {
   "codemirror_mode": {
    "name": "ipython",
    "version": 3
   },
   "file_extension": ".py",
   "mimetype": "text/x-python",
   "name": "python",
   "nbconvert_exporter": "python",
   "pygments_lexer": "ipython3",
   "version": "3.6.9"
  }
 },
 "nbformat": 4,
 "nbformat_minor": 2
}
