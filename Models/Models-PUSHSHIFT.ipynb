{
 "cells": [
  {
   "cell_type": "code",
   "execution_count": 1,
   "metadata": {},
   "outputs": [
    {
     "name": "stderr",
     "output_type": "stream",
     "text": [
      "Using TensorFlow backend.\n"
     ]
    },
    {
     "data": {
      "text/html": [
       "        <script type=\"text/javascript\">\n",
       "        window.PlotlyConfig = {MathJaxConfig: 'local'};\n",
       "        if (window.MathJax) {MathJax.Hub.Config({SVG: {font: \"STIX-Web\"}});}\n",
       "        if (typeof require !== 'undefined') {\n",
       "        require.undef(\"plotly\");\n",
       "        requirejs.config({\n",
       "            paths: {\n",
       "                'plotly': ['https://cdn.plot.ly/plotly-latest.min']\n",
       "            }\n",
       "        });\n",
       "        require(['plotly'], function(Plotly) {\n",
       "            window._Plotly = Plotly;\n",
       "        });\n",
       "        }\n",
       "        </script>\n",
       "        "
      ]
     },
     "metadata": {},
     "output_type": "display_data"
    },
    {
     "data": {
      "text/html": [
       "        <script type=\"text/javascript\">\n",
       "        window.PlotlyConfig = {MathJaxConfig: 'local'};\n",
       "        if (window.MathJax) {MathJax.Hub.Config({SVG: {font: \"STIX-Web\"}});}\n",
       "        if (typeof require !== 'undefined') {\n",
       "        require.undef(\"plotly\");\n",
       "        requirejs.config({\n",
       "            paths: {\n",
       "                'plotly': ['https://cdn.plot.ly/plotly-latest.min']\n",
       "            }\n",
       "        });\n",
       "        require(['plotly'], function(Plotly) {\n",
       "            window._Plotly = Plotly;\n",
       "        });\n",
       "        }\n",
       "        </script>\n",
       "        "
      ]
     },
     "metadata": {},
     "output_type": "display_data"
    }
   ],
   "source": [
    "import numpy as np \n",
    "import pandas as pd\n",
    "import csv\n",
    "import matplotlib.pyplot as plt\n",
    "\n",
    "from sklearn.feature_extraction.text import CountVectorizer, TfidfVectorizer, TfidfTransformer\n",
    "\n",
    "from imblearn.pipeline import Pipeline\n",
    "from sklearn.model_selection import train_test_split, GridSearchCV\n",
    "from imblearn.over_sampling import SMOTE\n",
    "from sklearn.metrics import *\n",
    "from helper import *\n",
    "\n",
    "from sklearn.linear_model import LogisticRegression\n",
    "from sklearn.naive_bayes import MultinomialNB\n",
    "from sklearn.ensemble import RandomForestClassifier\n",
    "import pickle\n",
    "\n",
    "import cufflinks\n",
    "\n",
    "cufflinks.go_offline()\n",
    "cufflinks.set_config_file(world_readable=True, theme='pearl')\n",
    "\n",
    "import warnings\n",
    "warnings.filterwarnings(\"ignore\")"
   ]
  },
  {
   "cell_type": "code",
   "execution_count": 2,
   "metadata": {
    "scrolled": true
   },
   "outputs": [
    {
     "data": {
      "text/html": [
       "<div>\n",
       "<style scoped>\n",
       "    .dataframe tbody tr th:only-of-type {\n",
       "        vertical-align: middle;\n",
       "    }\n",
       "\n",
       "    .dataframe tbody tr th {\n",
       "        vertical-align: top;\n",
       "    }\n",
       "\n",
       "    .dataframe thead th {\n",
       "        text-align: right;\n",
       "    }\n",
       "</style>\n",
       "<table border=\"1\" class=\"dataframe\">\n",
       "  <thead>\n",
       "    <tr style=\"text-align: right;\">\n",
       "      <th></th>\n",
       "      <th>Post ID</th>\n",
       "      <th>Title</th>\n",
       "      <th>URL</th>\n",
       "      <th>Body</th>\n",
       "      <th>Comments</th>\n",
       "      <th>Score</th>\n",
       "      <th>Comments Count</th>\n",
       "      <th>Flair</th>\n",
       "    </tr>\n",
       "  </thead>\n",
       "  <tbody>\n",
       "    <tr>\n",
       "      <th>0</th>\n",
       "      <td>f4j4os</td>\n",
       "      <td>loudspeaker temple loud</td>\n",
       "      <td>www.reddit.com</td>\n",
       "      <td>complain loudspeaker nuisance early morning ne...</td>\n",
       "      <td>call police work post anonymously twitter dele...</td>\n",
       "      <td>0.000289</td>\n",
       "      <td>0.011955</td>\n",
       "      <td>AskIndia</td>\n",
       "    </tr>\n",
       "    <tr>\n",
       "      <th>1</th>\n",
       "      <td>f4jmon</td>\n",
       "      <td>life calling</td>\n",
       "      <td>www.reddit.com</td>\n",
       "      <td>life calling dear friend first post reddit spi...</td>\n",
       "      <td>tldr loosing losing everything else ok post r ...</td>\n",
       "      <td>0.000289</td>\n",
       "      <td>0.002391</td>\n",
       "      <td>AskIndia</td>\n",
       "    </tr>\n",
       "    <tr>\n",
       "      <th>2</th>\n",
       "      <td>f4jpyp</td>\n",
       "      <td>another wall go trump time india</td>\n",
       "      <td>www.reuters.com</td>\n",
       "      <td>NaN</td>\n",
       "      <td>deewaar wahin banayenge</td>\n",
       "      <td>0.000289</td>\n",
       "      <td>0.000531</td>\n",
       "      <td>Politics</td>\n",
       "    </tr>\n",
       "    <tr>\n",
       "      <th>3</th>\n",
       "      <td>f4jqqi</td>\n",
       "      <td>rickshaw puller invite modi daughter marriage ...</td>\n",
       "      <td>www.theweek.in</td>\n",
       "      <td>NaN</td>\n",
       "      <td>pr kya hai ji understand people invite famous ...</td>\n",
       "      <td>0.000289</td>\n",
       "      <td>0.001328</td>\n",
       "      <td>Non-Political</td>\n",
       "    </tr>\n",
       "    <tr>\n",
       "      <th>4</th>\n",
       "      <td>f4jtws</td>\n",
       "      <td>maharashtra set roll npr may 1 uddhav thackera...</td>\n",
       "      <td>news.abplive.com</td>\n",
       "      <td>NaN</td>\n",
       "      <td>uddhav chya aaichi gand changed side form gove...</td>\n",
       "      <td>0.000289</td>\n",
       "      <td>0.001594</td>\n",
       "      <td>Politics</td>\n",
       "    </tr>\n",
       "  </tbody>\n",
       "</table>\n",
       "</div>"
      ],
      "text/plain": [
       "  Post ID                                              Title  \\\n",
       "0  f4j4os                            loudspeaker temple loud   \n",
       "1  f4jmon                                       life calling   \n",
       "2  f4jpyp                   another wall go trump time india   \n",
       "3  f4jqqi  rickshaw puller invite modi daughter marriage ...   \n",
       "4  f4jtws  maharashtra set roll npr may 1 uddhav thackera...   \n",
       "\n",
       "                URL                                               Body  \\\n",
       "0    www.reddit.com  complain loudspeaker nuisance early morning ne...   \n",
       "1    www.reddit.com  life calling dear friend first post reddit spi...   \n",
       "2   www.reuters.com                                                NaN   \n",
       "3    www.theweek.in                                                NaN   \n",
       "4  news.abplive.com                                                NaN   \n",
       "\n",
       "                                            Comments     Score  \\\n",
       "0  call police work post anonymously twitter dele...  0.000289   \n",
       "1  tldr loosing losing everything else ok post r ...  0.000289   \n",
       "2                            deewaar wahin banayenge  0.000289   \n",
       "3  pr kya hai ji understand people invite famous ...  0.000289   \n",
       "4  uddhav chya aaichi gand changed side form gove...  0.000289   \n",
       "\n",
       "   Comments Count          Flair  \n",
       "0        0.011955       AskIndia  \n",
       "1        0.002391       AskIndia  \n",
       "2        0.000531       Politics  \n",
       "3        0.001328  Non-Political  \n",
       "4        0.001594       Politics  "
      ]
     },
     "execution_count": 2,
     "metadata": {},
     "output_type": "execute_result"
    }
   ],
   "source": [
    "data = pd.read_csv(\"Data/PUSHSHIFT-Preprocessed.csv\")\n",
    "data.head(5)"
   ]
  },
  {
   "cell_type": "code",
   "execution_count": 3,
   "metadata": {},
   "outputs": [],
   "source": [
    "count = data.shape[0]"
   ]
  },
  {
   "cell_type": "code",
   "execution_count": 4,
   "metadata": {
    "scrolled": false
   },
   "outputs": [
    {
     "data": {
      "text/plain": [
       "Post ID               0\n",
       "Title                73\n",
       "URL                   0\n",
       "Body              16102\n",
       "Comments          12190\n",
       "Score                 0\n",
       "Comments Count        0\n",
       "Flair                 0\n",
       "dtype: int64"
      ]
     },
     "execution_count": 4,
     "metadata": {},
     "output_type": "execute_result"
    }
   ],
   "source": [
    "data.isna().sum()"
   ]
  },
  {
   "cell_type": "code",
   "execution_count": 5,
   "metadata": {},
   "outputs": [],
   "source": [
    "data[\"Title\"].fillna(\" \", inplace = True)\n",
    "data[\"Body\"].fillna(\" \", inplace = True) \n",
    "data[\"Comments\"].fillna(\" \", inplace = True)"
   ]
  },
  {
   "cell_type": "code",
   "execution_count": 6,
   "metadata": {},
   "outputs": [],
   "source": [
    "flairs = [\"AskIndia\", \"Non-Political\", \"Scheduled\", \"Photography\", \"Science/Technology\", \"Politics\", \n",
    "          \"Business/Finance\", \"Policy/Economy\", \"Sports\", \"Food\", \"Coronavirus\"]"
   ]
  },
  {
   "cell_type": "markdown",
   "metadata": {},
   "source": [
    "Helper functions"
   ]
  },
  {
   "cell_type": "code",
   "execution_count": 7,
   "metadata": {},
   "outputs": [],
   "source": [
    "def singleFeature(feature):\n",
    "\n",
    "    X = data[feature].values\n",
    "    Y = data.Flair\n",
    "    X_train, X_test, Y_train, Y_test = train_test_split(X, Y, random_state = 77, test_size = 0.2)\n",
    "\n",
    "    return X_train, X_test, Y_train, Y_test\n",
    "\n",
    "##\n",
    "\n",
    "def dualFeature(feature1, feature2):\n",
    "\n",
    "    X1 = data[feature1].values\n",
    "    X2 = data[feature2].values\n",
    "    Y = data.Flair\n",
    "\n",
    "    X = []\n",
    "\n",
    "    for ind in range(count):\n",
    "\n",
    "        X.append(X1[ind] + ' ' + X2[ind])\n",
    "\n",
    "    X_train, X_test, Y_train, Y_test = train_test_split(X, Y, random_state = 77, test_size = 0.2)\n",
    "\n",
    "    return X_train, X_test, Y_train, Y_test\n",
    "\n",
    "##\n",
    "\n",
    "def triFeature(feature1, feature2, feature3):\n",
    "\n",
    "    X1 = data[feature1].values\n",
    "    X2 = data[feature2].values\n",
    "    X3 = data[feature3].values\n",
    "    Y = data.Flair\n",
    "\n",
    "    X = []\n",
    "\n",
    "    for ind in range(count):\n",
    "\n",
    "        X.append(X1[ind] + ' ' + X2[ind] + ' ' + X3[ind])\n",
    "\n",
    "    X_train, X_test, Y_train, Y_test = train_test_split(X, Y, random_state = 77, test_size = 0.2)\n",
    "\n",
    "    return X_train, X_test, Y_train, Y_test"
   ]
  },
  {
   "cell_type": "markdown",
   "metadata": {},
   "source": [
    "### Title"
   ]
  },
  {
   "cell_type": "code",
   "execution_count": 8,
   "metadata": {},
   "outputs": [],
   "source": [
    "X_train, X_test, Y_train, Y_test = singleFeature(\"Title\")"
   ]
  },
  {
   "cell_type": "markdown",
   "metadata": {},
   "source": [
    "Naive Bayes"
   ]
  },
  {
   "cell_type": "code",
   "execution_count": 9,
   "metadata": {
    "scrolled": true
   },
   "outputs": [
    {
     "name": "stdout",
     "output_type": "stream",
     "text": [
      "Train accuracy 0.7111146013297733\n",
      "Test accuracy 0.5360134003350083\n",
      "                    precision    recall  f1-score   support\n",
      "\n",
      "          AskIndia       0.45      0.44      0.44       701\n",
      "     Non-Political       0.61      0.34      0.43       152\n",
      "         Scheduled       0.57      0.82      0.67      1530\n",
      "       Photography       0.67      0.27      0.38        45\n",
      "Science/Technology       0.47      0.36      0.40      1101\n",
      "          Politics       0.56      0.32      0.41       111\n",
      "  Business/Finance       0.36      0.14      0.20       146\n",
      "    Policy/Economy       0.59      0.56      0.58       750\n",
      "            Sports       0.65      0.63      0.64        35\n",
      "              Food       0.62      0.17      0.27       162\n",
      "       Coronavirus       0.56      0.33      0.41        43\n",
      "\n",
      "          accuracy                           0.54      4776\n",
      "         macro avg       0.55      0.40      0.44      4776\n",
      "      weighted avg       0.53      0.54      0.51      4776\n",
      "\n"
     ]
    }
   ],
   "source": [
    "MNB = Pipeline([('vect', CountVectorizer(ngram_range = (1, 1))),\n",
    "               ('tfidf', TfidfTransformer()),\n",
    "               ('MNB', MultinomialNB(alpha = 1, fit_prior = False)),\n",
    "              ])\n",
    "MNB.fit(X_train, Y_train)\n",
    "\n",
    "from sklearn.metrics import classification_report\n",
    "Y_pred = MNB.predict(X_test)\n",
    "\n",
    "print('Train accuracy '+ str(MNB.score(X_train, Y_train)))\n",
    "print('Test accuracy %s' % accuracy_score(Y_pred, Y_test))\n",
    "print(classification_report(Y_test, Y_pred, target_names = flairs))"
   ]
  },
  {
   "cell_type": "markdown",
   "metadata": {},
   "source": [
    "Logistic Regression"
   ]
  },
  {
   "cell_type": "code",
   "execution_count": 10,
   "metadata": {
    "scrolled": true
   },
   "outputs": [
    {
     "name": "stdout",
     "output_type": "stream",
     "text": [
      "Train accuracy 0.6806973456887074\n",
      "Test accuracy 0.535175879396985\n",
      "                    precision    recall  f1-score   support\n",
      "\n",
      "          AskIndia       0.49      0.41      0.45       701\n",
      "     Non-Political       0.67      0.22      0.33       152\n",
      "         Scheduled       0.59      0.79      0.67      1530\n",
      "       Photography       0.80      0.09      0.16        45\n",
      "Science/Technology       0.41      0.49      0.44      1101\n",
      "          Politics       1.00      0.17      0.29       111\n",
      "  Business/Finance       0.46      0.08      0.14       146\n",
      "    Policy/Economy       0.61      0.55      0.58       750\n",
      "            Sports       0.88      0.63      0.73        35\n",
      "              Food       0.85      0.10      0.19       162\n",
      "       Coronavirus       1.00      0.19      0.31        43\n",
      "\n",
      "          accuracy                           0.54      4776\n",
      "         macro avg       0.71      0.34      0.39      4776\n",
      "      weighted avg       0.56      0.54      0.51      4776\n",
      "\n"
     ]
    }
   ],
   "source": [
    "LR = Pipeline([('vect', CountVectorizer(ngram_range = (1, 1))),\n",
    "                ('tfidf', TfidfTransformer()),\n",
    "                ('LR', LogisticRegression(solver = \"liblinear\", penalty = \"l2\")),\n",
    "               ])\n",
    "LR.fit(X_train, Y_train)\n",
    "\n",
    "Y_pred = LR.predict(X_test)\n",
    "\n",
    "print('Train accuracy '+ str(LR.score(X_train, Y_train)))\n",
    "print('Test accuracy %s' % accuracy_score(Y_pred, Y_test))\n",
    "print(classification_report(Y_test, Y_pred, target_names = flairs))"
   ]
  },
  {
   "cell_type": "markdown",
   "metadata": {},
   "source": [
    "Random Forest"
   ]
  },
  {
   "cell_type": "code",
   "execution_count": 11,
   "metadata": {
    "scrolled": false
   },
   "outputs": [
    {
     "name": "stdout",
     "output_type": "stream",
     "text": [
      "Train accuracy 0.772786765090833\n",
      "Test accuracy 0.5339195979899497\n",
      "                    precision    recall  f1-score   support\n",
      "\n",
      "          AskIndia       0.47      0.36      0.41       701\n",
      "     Non-Political       0.61      0.32      0.42       152\n",
      "         Scheduled       0.59      0.80      0.68      1530\n",
      "       Photography       0.67      0.22      0.33        45\n",
      "Science/Technology       0.40      0.45      0.43      1101\n",
      "          Politics       0.65      0.28      0.39       111\n",
      "  Business/Finance       0.38      0.09      0.14       146\n",
      "    Policy/Economy       0.60      0.55      0.57       750\n",
      "            Sports       0.85      0.63      0.72        35\n",
      "              Food       0.71      0.15      0.25       162\n",
      "       Coronavirus       0.95      0.42      0.58        43\n",
      "\n",
      "          accuracy                           0.53      4776\n",
      "         macro avg       0.63      0.39      0.45      4776\n",
      "      weighted avg       0.54      0.53      0.52      4776\n",
      "\n"
     ]
    }
   ],
   "source": [
    "RF = Pipeline([\n",
    "    ('vect', CountVectorizer(ngram_range = (1, 1))),\n",
    "    ('tfidf', TfidfTransformer()),\n",
    "    ('RF', RandomForestClassifier(max_depth = 3000, min_samples_split = 200))\n",
    "])\n",
    "\n",
    "RF.fit(X_train, Y_train)\n",
    "\n",
    "Y_pred = RF.predict(X_test)\n",
    "\n",
    "print('Train accuracy '+ str(RF.score(X_train, Y_train)))\n",
    "print('Test accuracy %s' % accuracy_score(Y_pred, Y_test))\n",
    "print(classification_report(Y_test, Y_pred, target_names = flairs))"
   ]
  },
  {
   "cell_type": "markdown",
   "metadata": {},
   "source": [
    "### Comments"
   ]
  },
  {
   "cell_type": "code",
   "execution_count": 12,
   "metadata": {},
   "outputs": [],
   "source": [
    "X_train, X_test, Y_train, Y_test = singleFeature(\"Comments\")"
   ]
  },
  {
   "cell_type": "markdown",
   "metadata": {},
   "source": [
    "Naive Bayes"
   ]
  },
  {
   "cell_type": "code",
   "execution_count": 13,
   "metadata": {
    "scrolled": false
   },
   "outputs": [
    {
     "name": "stdout",
     "output_type": "stream",
     "text": [
      "Train accuracy 0.3622323438563426\n",
      "Test accuracy 0.2830820770519263\n",
      "                    precision    recall  f1-score   support\n",
      "\n",
      "          AskIndia       0.17      0.66      0.27       701\n",
      "     Non-Political       0.00      0.00      0.00       152\n",
      "         Scheduled       0.40      0.44      0.42      1530\n",
      "       Photography       1.00      0.02      0.04        45\n",
      "Science/Technology       0.41      0.06      0.10      1101\n",
      "          Politics       0.00      0.00      0.00       111\n",
      "  Business/Finance       0.00      0.00      0.00       146\n",
      "    Policy/Economy       0.62      0.20      0.31       750\n",
      "            Sports       0.00      0.00      0.00        35\n",
      "              Food       0.00      0.00      0.00       162\n",
      "       Coronavirus       0.00      0.00      0.00        43\n",
      "\n",
      "          accuracy                           0.28      4776\n",
      "         macro avg       0.24      0.13      0.10      4776\n",
      "      weighted avg       0.35      0.28      0.25      4776\n",
      "\n"
     ]
    }
   ],
   "source": [
    "MNB = Pipeline([('vect', CountVectorizer(ngram_range = (1, 1))),\n",
    "               ('tfidf', TfidfTransformer()),\n",
    "               ('MNB', MultinomialNB(alpha = 1, fit_prior = False)),\n",
    "              ])\n",
    "MNB.fit(X_train, Y_train)\n",
    "\n",
    "from sklearn.metrics import classification_report\n",
    "Y_pred = MNB.predict(X_test)\n",
    "\n",
    "print('Train accuracy '+ str(MNB.score(X_train, Y_train)))\n",
    "print('Test accuracy %s' % accuracy_score(Y_pred, Y_test))\n",
    "print(classification_report(Y_test, Y_pred, target_names = flairs))"
   ]
  },
  {
   "cell_type": "markdown",
   "metadata": {},
   "source": [
    "Logistic Regression"
   ]
  },
  {
   "cell_type": "code",
   "execution_count": 14,
   "metadata": {
    "scrolled": true
   },
   "outputs": [
    {
     "name": "stdout",
     "output_type": "stream",
     "text": [
      "Train accuracy 0.4991361708811057\n",
      "Test accuracy 0.4020100502512563\n",
      "                    precision    recall  f1-score   support\n",
      "\n",
      "          AskIndia       0.50      0.24      0.32       701\n",
      "     Non-Political       1.00      0.01      0.01       152\n",
      "         Scheduled       0.38      0.89      0.53      1530\n",
      "       Photography       0.00      0.00      0.00        45\n",
      "Science/Technology       0.36      0.15      0.21      1101\n",
      "          Politics       0.00      0.00      0.00       111\n",
      "  Business/Finance       0.86      0.04      0.08       146\n",
      "    Policy/Economy       0.56      0.29      0.38       750\n",
      "            Sports       0.83      0.14      0.24        35\n",
      "              Food       0.00      0.00      0.00       162\n",
      "       Coronavirus       0.00      0.00      0.00        43\n",
      "\n",
      "          accuracy                           0.40      4776\n",
      "         macro avg       0.41      0.16      0.16      4776\n",
      "      weighted avg       0.43      0.40      0.33      4776\n",
      "\n"
     ]
    }
   ],
   "source": [
    "LR = Pipeline([('vect', CountVectorizer(ngram_range = (1, 1))),\n",
    "                ('tfidf', TfidfTransformer()),\n",
    "                ('LR', LogisticRegression(solver = \"liblinear\", penalty = \"l2\")),\n",
    "               ])\n",
    "LR.fit(X_train, Y_train)\n",
    "\n",
    "Y_pred = LR.predict(X_test)\n",
    "\n",
    "print('Train accuracy '+ str(LR.score(X_train, Y_train)))\n",
    "print('Test accuracy %s' % accuracy_score(Y_pred, Y_test))\n",
    "print(classification_report(Y_test, Y_pred, target_names = flairs))"
   ]
  },
  {
   "cell_type": "markdown",
   "metadata": {},
   "source": [
    "Random Forest"
   ]
  },
  {
   "cell_type": "code",
   "execution_count": 15,
   "metadata": {
    "scrolled": true
   },
   "outputs": [
    {
     "name": "stdout",
     "output_type": "stream",
     "text": [
      "Train accuracy 0.5374587717920528\n",
      "Test accuracy 0.3890284757118928\n",
      "                    precision    recall  f1-score   support\n",
      "\n",
      "          AskIndia       0.54      0.19      0.28       701\n",
      "     Non-Political       0.00      0.00      0.00       152\n",
      "         Scheduled       0.36      0.93      0.52      1530\n",
      "       Photography       1.00      0.04      0.09        45\n",
      "Science/Technology       0.37      0.09      0.14      1101\n",
      "          Politics       0.00      0.00      0.00       111\n",
      "  Business/Finance       0.00      0.00      0.00       146\n",
      "    Policy/Economy       0.58      0.26      0.36       750\n",
      "            Sports       1.00      0.09      0.16        35\n",
      "              Food       0.00      0.00      0.00       162\n",
      "       Coronavirus       0.00      0.00      0.00        43\n",
      "\n",
      "          accuracy                           0.39      4776\n",
      "         macro avg       0.35      0.15      0.14      4776\n",
      "      weighted avg       0.39      0.39      0.30      4776\n",
      "\n"
     ]
    }
   ],
   "source": [
    "RF = Pipeline([\n",
    "    ('vect', CountVectorizer(ngram_range = (1, 1))),\n",
    "    ('tfidf', TfidfTransformer()),\n",
    "    ('RF', RandomForestClassifier(max_depth = 3000, min_samples_split = 200))\n",
    "])\n",
    "\n",
    "RF.fit(X_train, Y_train)\n",
    "\n",
    "Y_pred = RF.predict(X_test)\n",
    "\n",
    "print('Train accuracy '+ str(RF.score(X_train, Y_train)))\n",
    "print('Test accuracy %s' % accuracy_score(Y_pred, Y_test))\n",
    "print(classification_report(Y_test, Y_pred, target_names = flairs))"
   ]
  },
  {
   "cell_type": "markdown",
   "metadata": {},
   "source": [
    "### Title - Comments"
   ]
  },
  {
   "cell_type": "code",
   "execution_count": 16,
   "metadata": {},
   "outputs": [],
   "source": [
    "X_train, X_test, Y_train, Y_test = dualFeature(\"Title\", \"Comments\")"
   ]
  },
  {
   "cell_type": "markdown",
   "metadata": {},
   "source": [
    "Naive Bayes"
   ]
  },
  {
   "cell_type": "code",
   "execution_count": 17,
   "metadata": {},
   "outputs": [
    {
     "name": "stdout",
     "output_type": "stream",
     "text": [
      "Train accuracy 0.6828438301659598\n",
      "Test accuracy 0.49413735343383586\n",
      "                    precision    recall  f1-score   support\n",
      "\n",
      "          AskIndia       0.47      0.41      0.44       701\n",
      "     Non-Political       0.40      0.43      0.42       152\n",
      "         Scheduled       0.64      0.70      0.67      1530\n",
      "       Photography       0.27      0.62      0.38        45\n",
      "Science/Technology       0.57      0.17      0.26      1101\n",
      "          Politics       0.36      0.66      0.46       111\n",
      "  Business/Finance       0.26      0.45      0.33       146\n",
      "    Policy/Economy       0.60      0.62      0.61       750\n",
      "            Sports       0.06      0.69      0.12        35\n",
      "              Food       0.35      0.44      0.39       162\n",
      "       Coronavirus       0.29      0.58      0.38        43\n",
      "\n",
      "          accuracy                           0.49      4776\n",
      "         macro avg       0.39      0.53      0.41      4776\n",
      "      weighted avg       0.55      0.49      0.49      4776\n",
      "\n"
     ]
    }
   ],
   "source": [
    "MNB = Pipeline([('vect', CountVectorizer(ngram_range = (1, 1))),\n",
    "               ('tfidf', TfidfTransformer()),\n",
    "               ('sampling', SMOTE()),\n",
    "               ('MNB', MultinomialNB(alpha = 1, fit_prior = False)),\n",
    "              ])\n",
    "MNB.fit(X_train, Y_train)\n",
    "\n",
    "from sklearn.metrics import classification_report\n",
    "Y_pred = MNB.predict(X_test)\n",
    "\n",
    "print('Train accuracy '+ str(MNB.score(X_train, Y_train)))\n",
    "print('Test accuracy %s' % accuracy_score(Y_pred, Y_test))\n",
    "print(classification_report(Y_test, Y_pred, target_names = flairs))"
   ]
  },
  {
   "cell_type": "markdown",
   "metadata": {},
   "source": [
    "Logistic Regression"
   ]
  },
  {
   "cell_type": "code",
   "execution_count": 18,
   "metadata": {},
   "outputs": [
    {
     "name": "stdout",
     "output_type": "stream",
     "text": [
      "Train accuracy 0.7346212240196849\n",
      "Test accuracy 0.5121440536013401\n",
      "                    precision    recall  f1-score   support\n",
      "\n",
      "          AskIndia       0.43      0.43      0.43       701\n",
      "     Non-Political       0.32      0.43      0.37       152\n",
      "         Scheduled       0.70      0.63      0.66      1530\n",
      "       Photography       0.35      0.60      0.44        45\n",
      "Science/Technology       0.51      0.30      0.38      1101\n",
      "          Politics       0.36      0.71      0.48       111\n",
      "  Business/Finance       0.22      0.44      0.29       146\n",
      "    Policy/Economy       0.56      0.64      0.60       750\n",
      "            Sports       0.41      0.63      0.49        35\n",
      "              Food       0.26      0.44      0.33       162\n",
      "       Coronavirus       0.62      0.70      0.66        43\n",
      "\n",
      "          accuracy                           0.51      4776\n",
      "         macro avg       0.43      0.54      0.47      4776\n",
      "      weighted avg       0.54      0.51      0.51      4776\n",
      "\n"
     ]
    }
   ],
   "source": [
    "LR = Pipeline([('vect', CountVectorizer(ngram_range = (1, 1))),\n",
    "                ('tfidf', TfidfTransformer()),\n",
    "                ('sampling', SMOTE()),\n",
    "                ('LR', LogisticRegression(solver = \"liblinear\", penalty = \"l2\")),\n",
    "               ])\n",
    "LR.fit(X_train, Y_train)\n",
    "\n",
    "Y_pred = LR.predict(X_test)\n",
    "\n",
    "print('Train accuracy '+ str(LR.score(X_train, Y_train)))\n",
    "print('Test accuracy %s' % accuracy_score(Y_pred, Y_test))\n",
    "print(classification_report(Y_test, Y_pred, target_names = flairs))"
   ]
  },
  {
   "cell_type": "markdown",
   "metadata": {},
   "source": [
    "Random Forest"
   ]
  },
  {
   "cell_type": "code",
   "execution_count": 19,
   "metadata": {
    "scrolled": true
   },
   "outputs": [
    {
     "name": "stdout",
     "output_type": "stream",
     "text": [
      "Train accuracy 0.815192921836553\n",
      "Test accuracy 0.4897403685092127\n",
      "                    precision    recall  f1-score   support\n",
      "\n",
      "          AskIndia       0.41      0.39      0.40       701\n",
      "     Non-Political       0.33      0.47      0.38       152\n",
      "         Scheduled       0.65      0.67      0.66      1530\n",
      "       Photography       0.30      0.56      0.39        45\n",
      "Science/Technology       0.42      0.25      0.31      1101\n",
      "          Politics       0.32      0.59      0.41       111\n",
      "  Business/Finance       0.22      0.27      0.24       146\n",
      "    Policy/Economy       0.53      0.63      0.57       750\n",
      "            Sports       0.46      0.63      0.53        35\n",
      "              Food       0.29      0.35      0.32       162\n",
      "       Coronavirus       0.46      0.58      0.52        43\n",
      "\n",
      "          accuracy                           0.49      4776\n",
      "         macro avg       0.40      0.49      0.43      4776\n",
      "      weighted avg       0.49      0.49      0.48      4776\n",
      "\n"
     ]
    }
   ],
   "source": [
    "RF = Pipeline([\n",
    "    ('vect', CountVectorizer(ngram_range = (1, 1))),\n",
    "    ('tfidf', TfidfTransformer()),\n",
    "    ('sampling', SMOTE()),\n",
    "    ('RF', RandomForestClassifier(max_depth = 3000, min_samples_split = 200))\n",
    "])\n",
    "\n",
    "RF.fit(X_train, Y_train)\n",
    "\n",
    "Y_pred = RF.predict(X_test)\n",
    "\n",
    "print('Train accuracy '+ str(RF.score(X_train, Y_train)))\n",
    "print('Test accuracy %s' % accuracy_score(Y_pred, Y_test))\n",
    "print(classification_report(Y_test, Y_pred, target_names = flairs))"
   ]
  },
  {
   "cell_type": "markdown",
   "metadata": {},
   "source": [
    "### Title - Comments - Body"
   ]
  },
  {
   "cell_type": "code",
   "execution_count": 20,
   "metadata": {},
   "outputs": [],
   "source": [
    "X_train, X_test, Y_train, Y_test = triFeature(\"Title\", \"Body\", \"Comments\")"
   ]
  },
  {
   "cell_type": "markdown",
   "metadata": {},
   "source": [
    "Naive Bayes"
   ]
  },
  {
   "cell_type": "code",
   "execution_count": 21,
   "metadata": {},
   "outputs": [
    {
     "name": "stdout",
     "output_type": "stream",
     "text": [
      "Train accuracy 0.6799120464897126\n",
      "Test accuracy 0.49246231155778897\n",
      "                    precision    recall  f1-score   support\n",
      "\n",
      "          AskIndia       0.45      0.47      0.46       701\n",
      "     Non-Political       0.41      0.43      0.42       152\n",
      "         Scheduled       0.68      0.65      0.66      1530\n",
      "       Photography       0.27      0.58      0.37        45\n",
      "Science/Technology       0.59      0.15      0.24      1101\n",
      "          Politics       0.40      0.65      0.49       111\n",
      "  Business/Finance       0.23      0.50      0.31       146\n",
      "    Policy/Economy       0.54      0.67      0.60       750\n",
      "            Sports       0.08      0.69      0.14        35\n",
      "              Food       0.33      0.44      0.38       162\n",
      "       Coronavirus       0.32      0.58      0.41        43\n",
      "\n",
      "          accuracy                           0.49      4776\n",
      "         macro avg       0.39      0.53      0.41      4776\n",
      "      weighted avg       0.55      0.49      0.49      4776\n",
      "\n"
     ]
    }
   ],
   "source": [
    "MNB = Pipeline([('vect', CountVectorizer(ngram_range = (1, 1))),\n",
    "               ('tfidf', TfidfTransformer()),\n",
    "               ('sampling', SMOTE()),\n",
    "               ('MNB', MultinomialNB(alpha = 1, fit_prior = False)),\n",
    "              ])\n",
    "MNB.fit(X_train, Y_train)\n",
    "\n",
    "from sklearn.metrics import classification_report\n",
    "Y_pred = MNB.predict(X_test)\n",
    "\n",
    "print('Train accuracy '+ str(MNB.score(X_train, Y_train)))\n",
    "print('Test accuracy %s' % accuracy_score(Y_pred, Y_test))\n",
    "print(classification_report(Y_test, Y_pred, target_names = flairs))"
   ]
  },
  {
   "cell_type": "markdown",
   "metadata": {},
   "source": [
    "Logistic Regression"
   ]
  },
  {
   "cell_type": "code",
   "execution_count": 22,
   "metadata": {},
   "outputs": [
    {
     "name": "stdout",
     "output_type": "stream",
     "text": [
      "Train accuracy 0.7476048374430658\n",
      "Test accuracy 0.5213567839195979\n",
      "                    precision    recall  f1-score   support\n",
      "\n",
      "          AskIndia       0.43      0.46      0.44       701\n",
      "     Non-Political       0.37      0.45      0.40       152\n",
      "         Scheduled       0.70      0.62      0.66      1530\n",
      "       Photography       0.35      0.64      0.46        45\n",
      "Science/Technology       0.49      0.34      0.40      1101\n",
      "          Politics       0.39      0.73      0.51       111\n",
      "  Business/Finance       0.24      0.40      0.30       146\n",
      "    Policy/Economy       0.59      0.65      0.62       750\n",
      "            Sports       0.50      0.63      0.56        35\n",
      "              Food       0.27      0.43      0.33       162\n",
      "       Coronavirus       0.55      0.60      0.58        43\n",
      "\n",
      "          accuracy                           0.52      4776\n",
      "         macro avg       0.44      0.54      0.48      4776\n",
      "      weighted avg       0.54      0.52      0.52      4776\n",
      "\n"
     ]
    }
   ],
   "source": [
    "LR = Pipeline([('vect', CountVectorizer(ngram_range = (1, 1))),\n",
    "                ('tfidf', TfidfTransformer()),\n",
    "                ('sampling', SMOTE()),\n",
    "                ('LR', LogisticRegression(solver = \"liblinear\", penalty = \"l2\")),\n",
    "               ])\n",
    "LR.fit(X_train, Y_train)\n",
    "\n",
    "Y_pred = LR.predict(X_test)\n",
    "\n",
    "print('Train accuracy '+ str(LR.score(X_train, Y_train)))\n",
    "print('Test accuracy %s' % accuracy_score(Y_pred, Y_test))\n",
    "print(classification_report(Y_test, Y_pred, target_names = flairs))"
   ]
  },
  {
   "cell_type": "code",
   "execution_count": 23,
   "metadata": {},
   "outputs": [],
   "source": [
    "pickle.dump(LR, open('LR-PUSHSHIFT.pkl', 'wb'))"
   ]
  },
  {
   "cell_type": "markdown",
   "metadata": {},
   "source": [
    "Random Forest"
   ]
  },
  {
   "cell_type": "code",
   "execution_count": 24,
   "metadata": {},
   "outputs": [
    {
     "name": "stdout",
     "output_type": "stream",
     "text": [
      "Train accuracy 0.8349824616512225\n",
      "Test accuracy 0.5159128978224455\n",
      "                    precision    recall  f1-score   support\n",
      "\n",
      "          AskIndia       0.44      0.51      0.47       701\n",
      "     Non-Political       0.40      0.44      0.42       152\n",
      "         Scheduled       0.66      0.66      0.66      1530\n",
      "       Photography       0.33      0.53      0.41        45\n",
      "Science/Technology       0.44      0.30      0.35      1101\n",
      "          Politics       0.35      0.59      0.44       111\n",
      "  Business/Finance       0.28      0.32      0.30       146\n",
      "    Policy/Economy       0.55      0.62      0.58       750\n",
      "            Sports       0.71      0.63      0.67        35\n",
      "              Food       0.35      0.37      0.36       162\n",
      "       Coronavirus       0.47      0.58      0.52        43\n",
      "\n",
      "          accuracy                           0.52      4776\n",
      "         macro avg       0.45      0.50      0.47      4776\n",
      "      weighted avg       0.52      0.52      0.51      4776\n",
      "\n"
     ]
    }
   ],
   "source": [
    "RF = Pipeline([\n",
    "    ('vect', CountVectorizer(ngram_range = (1, 1))),\n",
    "    ('tfidf', TfidfTransformer()),\n",
    "    ('sampling', SMOTE()),\n",
    "    ('RF', RandomForestClassifier(max_depth = 3000, min_samples_split = 200))\n",
    "])\n",
    "\n",
    "RF.fit(X_train, Y_train)\n",
    "\n",
    "Y_pred = RF.predict(X_test)\n",
    "\n",
    "print('Train accuracy '+ str(RF.score(X_train, Y_train)))\n",
    "print('Test accuracy %s' % accuracy_score(Y_pred, Y_test))\n",
    "print(classification_report(Y_test, Y_pred, target_names = flairs))"
   ]
  }
 ],
 "metadata": {
  "kernelspec": {
   "display_name": "Python 3",
   "language": "python",
   "name": "python3"
  },
  "language_info": {
   "codemirror_mode": {
    "name": "ipython",
    "version": 3
   },
   "file_extension": ".py",
   "mimetype": "text/x-python",
   "name": "python",
   "nbconvert_exporter": "python",
   "pygments_lexer": "ipython3",
   "version": "3.6.9"
  }
 },
 "nbformat": 4,
 "nbformat_minor": 2
}
